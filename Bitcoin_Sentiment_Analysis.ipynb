{
 "cells": [
  {
   "cell_type": "code",
   "execution_count": 3,
   "id": "9cd89fbf",
   "metadata": {},
   "outputs": [
    {
     "name": "stdout",
     "output_type": "stream",
     "text": [
      "Requirement already satisfied: Matplotlib in c:\\users\\abdul_wahab\\anaconda3\\lib\\site-packages (3.3.4)\n",
      "Note: you may need to restart the kernel to use updated packages.Requirement already satisfied: numpy>=1.15 in c:\\users\\abdul_wahab\\anaconda3\\lib\\site-packages (from Matplotlib) (1.20.1)\n",
      "Requirement already satisfied: kiwisolver>=1.0.1 in c:\\users\\abdul_wahab\\anaconda3\\lib\\site-packages (from Matplotlib) (1.3.1)\n",
      "Requirement already satisfied: pyparsing!=2.0.4,!=2.1.2,!=2.1.6,>=2.0.3 in c:\\users\\abdul_wahab\\anaconda3\\lib\\site-packages (from Matplotlib) (2.4.7)\n",
      "Requirement already satisfied: pillow>=6.2.0 in c:\\users\\abdul_wahab\\anaconda3\\lib\\site-packages (from Matplotlib) (8.2.0)\n",
      "Requirement already satisfied: cycler>=0.10 in c:\\users\\abdul_wahab\\anaconda3\\lib\\site-packages (from Matplotlib) (0.10.0)\n",
      "Requirement already satisfied: python-dateutil>=2.1 in c:\\users\\abdul_wahab\\anaconda3\\lib\\site-packages (from Matplotlib) (2.8.1)\n",
      "Requirement already satisfied: six in c:\\users\\abdul_wahab\\anaconda3\\lib\\site-packages (from cycler>=0.10->Matplotlib) (1.15.0)\n",
      "\n"
     ]
    }
   ],
   "source": [
    "pip install Matplotlib\n"
   ]
  },
  {
   "cell_type": "code",
   "execution_count": 4,
   "id": "51263df4",
   "metadata": {},
   "outputs": [
    {
     "name": "stdout",
     "output_type": "stream",
     "text": [
      "Requirement already satisfied: Seaborn in c:\\users\\abdul_wahab\\anaconda3\\lib\\site-packages (0.11.1)\n",
      "Requirement already satisfied: numpy>=1.15 in c:\\users\\abdul_wahab\\anaconda3\\lib\\site-packages (from Seaborn) (1.20.1)\n",
      "Requirement already satisfied: matplotlib>=2.2 in c:\\users\\abdul_wahab\\anaconda3\\lib\\site-packages (from Seaborn) (3.3.4)\n",
      "Requirement already satisfied: pandas>=0.23 in c:\\users\\abdul_wahab\\anaconda3\\lib\\site-packages (from Seaborn) (1.2.4)\n",
      "Requirement already satisfied: scipy>=1.0 in c:\\users\\abdul_wahab\\anaconda3\\lib\\site-packages (from Seaborn) (1.6.2)\n",
      "Requirement already satisfied: pillow>=6.2.0 in c:\\users\\abdul_wahab\\anaconda3\\lib\\site-packages (from matplotlib>=2.2->Seaborn) (8.2.0)\n",
      "Requirement already satisfied: python-dateutil>=2.1 in c:\\users\\abdul_wahab\\anaconda3\\lib\\site-packages (from matplotlib>=2.2->Seaborn) (2.8.1)\n",
      "Requirement already satisfied: kiwisolver>=1.0.1 in c:\\users\\abdul_wahab\\anaconda3\\lib\\site-packages (from matplotlib>=2.2->Seaborn) (1.3.1)\n",
      "Requirement already satisfied: cycler>=0.10 in c:\\users\\abdul_wahab\\anaconda3\\lib\\site-packages (from matplotlib>=2.2->Seaborn) (0.10.0)\n",
      "Requirement already satisfied: pyparsing!=2.0.4,!=2.1.2,!=2.1.6,>=2.0.3 in c:\\users\\abdul_wahab\\anaconda3\\lib\\site-packages (from matplotlib>=2.2->Seaborn) (2.4.7)\n",
      "Requirement already satisfied: six in c:\\users\\abdul_wahab\\anaconda3\\lib\\site-packages (from cycler>=0.10->matplotlib>=2.2->Seaborn) (1.15.0)\n",
      "Requirement already satisfied: pytz>=2017.3 in c:\\users\\abdul_wahab\\anaconda3\\lib\\site-packages (from pandas>=0.23->Seaborn) (2021.1)\n",
      "Note: you may need to restart the kernel to use updated packages.\n"
     ]
    }
   ],
   "source": [
    "pip install Seaborn"
   ]
  },
  {
   "cell_type": "code",
   "execution_count": 5,
   "id": "76159cb8",
   "metadata": {},
   "outputs": [
    {
     "name": "stdout",
     "output_type": "stream",
     "text": [
      "Requirement already satisfied: TensorFlow in c:\\users\\abdul_wahab\\anaconda3\\lib\\site-packages (2.3.0)\n",
      "Requirement already satisfied: opt-einsum>=2.3.2 in c:\\users\\abdul_wahab\\anaconda3\\lib\\site-packages (from TensorFlow) (3.3.0)\n",
      "Collecting gast==0.3.3\n",
      "  Downloading gast-0.3.3-py2.py3-none-any.whl (9.7 kB)\n",
      "Requirement already satisfied: termcolor>=1.1.0 in c:\\users\\abdul_wahab\\anaconda3\\lib\\site-packages (from TensorFlow) (1.1.0)\n",
      "Collecting numpy<1.19.0,>=1.16.0\n",
      "  Downloading numpy-1.18.5-cp38-cp38-win_amd64.whl (12.8 MB)\n",
      "Requirement already satisfied: h5py<2.11.0,>=2.10.0 in c:\\users\\abdul_wahab\\anaconda3\\lib\\site-packages (from TensorFlow) (2.10.0)\n",
      "Requirement already satisfied: six>=1.12.0 in c:\\users\\abdul_wahab\\anaconda3\\lib\\site-packages (from TensorFlow) (1.15.0)\n",
      "Collecting tensorflow-estimator<2.4.0,>=2.3.0\n",
      "  Downloading tensorflow_estimator-2.3.0-py2.py3-none-any.whl (459 kB)\n",
      "Requirement already satisfied: grpcio>=1.8.6 in c:\\users\\abdul_wahab\\anaconda3\\lib\\site-packages (from TensorFlow) (1.38.1)\n",
      "Requirement already satisfied: google-pasta>=0.1.8 in c:\\users\\abdul_wahab\\anaconda3\\lib\\site-packages (from TensorFlow) (0.2.0)\n",
      "Requirement already satisfied: astunparse==1.6.3 in c:\\users\\abdul_wahab\\anaconda3\\lib\\site-packages (from TensorFlow) (1.6.3)\n",
      "Requirement already satisfied: protobuf>=3.9.2 in c:\\users\\abdul_wahab\\anaconda3\\lib\\site-packages (from TensorFlow) (3.18.0)\n",
      "Requirement already satisfied: wrapt>=1.11.1 in c:\\users\\abdul_wahab\\anaconda3\\lib\\site-packages (from TensorFlow) (1.12.1)\n",
      "Requirement already satisfied: keras-preprocessing<1.2,>=1.1.1 in c:\\users\\abdul_wahab\\anaconda3\\lib\\site-packages (from TensorFlow) (1.1.2)\n",
      "Requirement already satisfied: tensorboard<3,>=2.3.0 in c:\\users\\abdul_wahab\\anaconda3\\lib\\site-packages (from TensorFlow) (2.6.0)\n",
      "Collecting scipy==1.4.1\n",
      "  Downloading scipy-1.4.1-cp38-cp38-win_amd64.whl (31.0 MB)\n",
      "Requirement already satisfied: absl-py>=0.7.0 in c:\\users\\abdul_wahab\\anaconda3\\lib\\site-packages (from TensorFlow) (0.14.1)\n",
      "Requirement already satisfied: wheel>=0.26 in c:\\users\\abdul_wahab\\anaconda3\\lib\\site-packages (from TensorFlow) (0.36.2)\n",
      "Requirement already satisfied: markdown>=2.6.8 in c:\\users\\abdul_wahab\\anaconda3\\lib\\site-packages (from tensorboard<3,>=2.3.0->TensorFlow) (3.3.4)\n",
      "Requirement already satisfied: google-auth-oauthlib<0.5,>=0.4.1 in c:\\users\\abdul_wahab\\anaconda3\\lib\\site-packages (from tensorboard<3,>=2.3.0->TensorFlow) (0.4.6)\n",
      "Requirement already satisfied: setuptools>=41.0.0 in c:\\users\\abdul_wahab\\anaconda3\\lib\\site-packages (from tensorboard<3,>=2.3.0->TensorFlow) (52.0.0.post20210125)\n",
      "Requirement already satisfied: tensorboard-plugin-wit>=1.6.0 in c:\\users\\abdul_wahab\\anaconda3\\lib\\site-packages (from tensorboard<3,>=2.3.0->TensorFlow) (1.8.0)\n",
      "Requirement already satisfied: werkzeug>=0.11.15 in c:\\users\\abdul_wahab\\anaconda3\\lib\\site-packages (from tensorboard<3,>=2.3.0->TensorFlow) (1.0.1)\n",
      "Requirement already satisfied: google-auth<2,>=1.6.3 in c:\\users\\abdul_wahab\\anaconda3\\lib\\site-packages (from tensorboard<3,>=2.3.0->TensorFlow) (1.21.3)\n",
      "Requirement already satisfied: requests<3,>=2.21.0 in c:\\users\\abdul_wahab\\anaconda3\\lib\\site-packages (from tensorboard<3,>=2.3.0->TensorFlow) (2.25.1)\n",
      "Requirement already satisfied: tensorboard-data-server<0.7.0,>=0.6.0 in c:\\users\\abdul_wahab\\anaconda3\\lib\\site-packages (from tensorboard<3,>=2.3.0->TensorFlow) (0.6.0)\n",
      "Requirement already satisfied: pyasn1-modules>=0.2.1 in c:\\users\\abdul_wahab\\anaconda3\\lib\\site-packages (from google-auth<2,>=1.6.3->tensorboard<3,>=2.3.0->TensorFlow) (0.2.7)\n",
      "Requirement already satisfied: cachetools<5.0,>=2.0.0 in c:\\users\\abdul_wahab\\anaconda3\\lib\\site-packages (from google-auth<2,>=1.6.3->tensorboard<3,>=2.3.0->TensorFlow) (4.2.4)\n",
      "Requirement already satisfied: rsa<5,>=3.1.4 in c:\\users\\abdul_wahab\\anaconda3\\lib\\site-packages (from google-auth<2,>=1.6.3->tensorboard<3,>=2.3.0->TensorFlow) (4.7.2)\n",
      "Requirement already satisfied: requests-oauthlib>=0.7.0 in c:\\users\\abdul_wahab\\anaconda3\\lib\\site-packages (from google-auth-oauthlib<0.5,>=0.4.1->tensorboard<3,>=2.3.0->TensorFlow) (1.3.0)\n",
      "Requirement already satisfied: pyasn1<0.5.0,>=0.4.6 in c:\\users\\abdul_wahab\\anaconda3\\lib\\site-packages (from pyasn1-modules>=0.2.1->google-auth<2,>=1.6.3->tensorboard<3,>=2.3.0->TensorFlow) (0.4.8)\n",
      "Requirement already satisfied: urllib3<1.27,>=1.21.1 in c:\\users\\abdul_wahab\\anaconda3\\lib\\site-packages (from requests<3,>=2.21.0->tensorboard<3,>=2.3.0->TensorFlow) (1.26.4)\n",
      "Requirement already satisfied: chardet<5,>=3.0.2 in c:\\users\\abdul_wahab\\anaconda3\\lib\\site-packages (from requests<3,>=2.21.0->tensorboard<3,>=2.3.0->TensorFlow) (4.0.0)\n",
      "Requirement already satisfied: certifi>=2017.4.17 in c:\\users\\abdul_wahab\\anaconda3\\lib\\site-packages (from requests<3,>=2.21.0->tensorboard<3,>=2.3.0->TensorFlow) (2020.12.5)\n",
      "Requirement already satisfied: idna<3,>=2.5 in c:\\users\\abdul_wahab\\anaconda3\\lib\\site-packages (from requests<3,>=2.21.0->tensorboard<3,>=2.3.0->TensorFlow) (2.10)\n",
      "Requirement already satisfied: oauthlib>=3.0.0 in c:\\users\\abdul_wahab\\anaconda3\\lib\\site-packages (from requests-oauthlib>=0.7.0->google-auth-oauthlib<0.5,>=0.4.1->tensorboard<3,>=2.3.0->TensorFlow) (3.1.1)\n",
      "Installing collected packages: numpy, tensorflow-estimator, scipy, gast\n",
      "  Attempting uninstall: numpy\n",
      "    Found existing installation: numpy 1.20.1\n",
      "    Uninstalling numpy-1.20.1:\n",
      "      Successfully uninstalled numpy-1.20.1\n",
      "Note: you may need to restart the kernel to use updated packages.\n"
     ]
    },
    {
     "name": "stderr",
     "output_type": "stream",
     "text": [
      "ERROR: Could not install packages due to an OSError: [WinError 5] Access is denied: 'C:\\\\Users\\\\Abdul_Wahab\\\\anaconda3\\\\Lib\\\\site-packages\\\\~umpy\\\\core\\\\_multiarray_tests.cp38-win_amd64.pyd'\n",
      "Consider using the `--user` option or check the permissions.\n",
      "\n"
     ]
    }
   ],
   "source": [
    "pip install TensorFlow"
   ]
  },
  {
   "cell_type": "code",
   "execution_count": 6,
   "id": "99885d65",
   "metadata": {},
   "outputs": [
    {
     "name": "stdout",
     "output_type": "stream",
     "text": [
      "Requirement already satisfied: NLTK in c:\\users\\abdul_wahab\\anaconda3\\lib\\site-packages (3.6.1)\n",
      "Requirement already satisfied: click in c:\\users\\abdul_wahab\\anaconda3\\lib\\site-packages (from NLTK) (7.1.2)\n",
      "Requirement already satisfied: joblib in c:\\users\\abdul_wahab\\anaconda3\\lib\\site-packages (from NLTK) (1.0.1)\n",
      "Requirement already satisfied: tqdm in c:\\users\\abdul_wahab\\anaconda3\\lib\\site-packages (from NLTK) (4.59.0)\n",
      "Requirement already satisfied: regex in c:\\users\\abdul_wahab\\anaconda3\\lib\\site-packages (from NLTK) (2021.4.4)\n",
      "Note: you may need to restart the kernel to use updated packages.\n"
     ]
    }
   ],
   "source": [
    "pip install NLTK"
   ]
  },
  {
   "cell_type": "code",
   "execution_count": 7,
   "id": "04f1c840",
   "metadata": {},
   "outputs": [
    {
     "name": "stdout",
     "output_type": "stream",
     "text": [
      "Requirement already satisfied: plotly in c:\\users\\abdul_wahab\\anaconda3\\lib\\site-packages (5.5.0)Note: you may need to restart the kernel to use updated packages.\n",
      "Requirement already satisfied: six in c:\\users\\abdul_wahab\\anaconda3\\lib\\site-packages (from plotly) (1.15.0)\n",
      "Requirement already satisfied: tenacity>=6.2.0 in c:\\users\\abdul_wahab\\anaconda3\\lib\\site-packages (from plotly) (8.0.1)\n",
      "\n"
     ]
    }
   ],
   "source": [
    "pip install plotly"
   ]
  },
  {
   "cell_type": "code",
   "execution_count": 8,
   "id": "9512828c",
   "metadata": {},
   "outputs": [
    {
     "name": "stderr",
     "output_type": "stream",
     "text": [
      "[nltk_data] Downloading package stopwords to\n",
      "[nltk_data]     C:\\Users\\Abdul_Wahab\\AppData\\Roaming\\nltk_data...\n",
      "[nltk_data]   Package stopwords is already up-to-date!\n"
     ]
    }
   ],
   "source": [
    "import numpy as np\n",
    "import pandas as pd\n",
    "import os\n",
    "from tqdm import tqdm\n",
    "\n",
    "#For Preprocessing\n",
    "import re    # RegEx for removing non-letter characters\n",
    "import nltk  # natural language processing\n",
    "nltk.download(\"stopwords\")\n",
    "from nltk.corpus import stopwords\n",
    "from nltk.stem.porter import *\n",
    "from nltk.sentiment.vader import SentimentIntensityAnalyzer\n",
    "# For Building the model\n",
    "from sklearn.model_selection import train_test_split\n",
    "import tensorflow as tf\n",
    "import seaborn as sns\n",
    "\n",
    "#For data visualization\n",
    "import matplotlib.pyplot as plt\n",
    "import matplotlib.patches as mpatches\n",
    "%matplotlib inline\n",
    "\n",
    "pd.options.plotting.backend = \"plotly\""
   ]
  },
  {
   "cell_type": "code",
   "execution_count": 9,
   "id": "83306924",
   "metadata": {
    "scrolled": true
   },
   "outputs": [
    {
     "name": "stderr",
     "output_type": "stream",
     "text": [
      "C:\\Users\\Abdul_Wahab\\anaconda3\\lib\\site-packages\\IPython\\core\\interactiveshell.py:3165: DtypeWarning: Columns (1,2,3,5,6,7,8,9,10,11,12) have mixed types.Specify dtype option on import or set low_memory=False.\n",
      "  has_raised = await self.run_ast_nodes(code_ast.body, cell_name,\n"
     ]
    },
    {
     "data": {
      "text/html": [
       "<div>\n",
       "<style scoped>\n",
       "    .dataframe tbody tr th:only-of-type {\n",
       "        vertical-align: middle;\n",
       "    }\n",
       "\n",
       "    .dataframe tbody tr th {\n",
       "        vertical-align: top;\n",
       "    }\n",
       "\n",
       "    .dataframe thead th {\n",
       "        text-align: right;\n",
       "    }\n",
       "</style>\n",
       "<table border=\"1\" class=\"dataframe\">\n",
       "  <thead>\n",
       "    <tr style=\"text-align: right;\">\n",
       "      <th></th>\n",
       "      <th>user_name</th>\n",
       "      <th>user_location</th>\n",
       "      <th>user_description</th>\n",
       "      <th>user_created</th>\n",
       "      <th>user_followers</th>\n",
       "      <th>user_friends</th>\n",
       "      <th>user_favourites</th>\n",
       "      <th>user_verified</th>\n",
       "      <th>date</th>\n",
       "      <th>text</th>\n",
       "      <th>hashtags</th>\n",
       "      <th>source</th>\n",
       "      <th>is_retweet</th>\n",
       "    </tr>\n",
       "  </thead>\n",
       "  <tbody>\n",
       "    <tr>\n",
       "      <th>0</th>\n",
       "      <td>DeSota Wilson</td>\n",
       "      <td>Atlanta, GA</td>\n",
       "      <td>Biz Consultant, real estate, fintech, startups...</td>\n",
       "      <td>2009-04-26 20:05:09</td>\n",
       "      <td>8534.0</td>\n",
       "      <td>7605</td>\n",
       "      <td>4838</td>\n",
       "      <td>False</td>\n",
       "      <td>2021-02-10 23:59:04</td>\n",
       "      <td>Blue Ridge Bank shares halted by NYSE after #b...</td>\n",
       "      <td>['bitcoin']</td>\n",
       "      <td>Twitter Web App</td>\n",
       "      <td>False</td>\n",
       "    </tr>\n",
       "    <tr>\n",
       "      <th>1</th>\n",
       "      <td>CryptoND</td>\n",
       "      <td>NaN</td>\n",
       "      <td>😎 BITCOINLIVE is a Dutch platform aimed at inf...</td>\n",
       "      <td>2019-10-17 20:12:10</td>\n",
       "      <td>6769.0</td>\n",
       "      <td>1532</td>\n",
       "      <td>25483</td>\n",
       "      <td>False</td>\n",
       "      <td>2021-02-10 23:58:48</td>\n",
       "      <td>😎 Today, that's this #Thursday, we will do a \"...</td>\n",
       "      <td>['Thursday', 'Btc', 'wallet', 'security']</td>\n",
       "      <td>Twitter for Android</td>\n",
       "      <td>False</td>\n",
       "    </tr>\n",
       "    <tr>\n",
       "      <th>2</th>\n",
       "      <td>Tdlmatias</td>\n",
       "      <td>London, England</td>\n",
       "      <td>IM Academy : The best #forex, #SelfEducation, ...</td>\n",
       "      <td>2014-11-10 10:50:37</td>\n",
       "      <td>128.0</td>\n",
       "      <td>332</td>\n",
       "      <td>924</td>\n",
       "      <td>False</td>\n",
       "      <td>2021-02-10 23:54:48</td>\n",
       "      <td>Guys evening, I have read this article about B...</td>\n",
       "      <td>NaN</td>\n",
       "      <td>Twitter Web App</td>\n",
       "      <td>False</td>\n",
       "    </tr>\n",
       "    <tr>\n",
       "      <th>3</th>\n",
       "      <td>Crypto is the future</td>\n",
       "      <td>NaN</td>\n",
       "      <td>I will post a lot of buying signals for BTC tr...</td>\n",
       "      <td>2019-09-28 16:48:12</td>\n",
       "      <td>625.0</td>\n",
       "      <td>129</td>\n",
       "      <td>14</td>\n",
       "      <td>False</td>\n",
       "      <td>2021-02-10 23:54:33</td>\n",
       "      <td>$BTC A big chance in a billion! Price: \\487264...</td>\n",
       "      <td>['Bitcoin', 'FX', 'BTC', 'crypto']</td>\n",
       "      <td>dlvr.it</td>\n",
       "      <td>False</td>\n",
       "    </tr>\n",
       "    <tr>\n",
       "      <th>4</th>\n",
       "      <td>Alex Kirchmaier 🇦🇹🇸🇪 #FactsSuperspreader</td>\n",
       "      <td>Europa</td>\n",
       "      <td>Co-founder @RENJERJerky | Forbes 30Under30 | I...</td>\n",
       "      <td>2016-02-03 13:15:55</td>\n",
       "      <td>1249.0</td>\n",
       "      <td>1472</td>\n",
       "      <td>10482</td>\n",
       "      <td>False</td>\n",
       "      <td>2021-02-10 23:54:06</td>\n",
       "      <td>This network is secured by 9 508 nodes as of t...</td>\n",
       "      <td>['BTC']</td>\n",
       "      <td>Twitter Web App</td>\n",
       "      <td>False</td>\n",
       "    </tr>\n",
       "    <tr>\n",
       "      <th>...</th>\n",
       "      <td>...</td>\n",
       "      <td>...</td>\n",
       "      <td>...</td>\n",
       "      <td>...</td>\n",
       "      <td>...</td>\n",
       "      <td>...</td>\n",
       "      <td>...</td>\n",
       "      <td>...</td>\n",
       "      <td>...</td>\n",
       "      <td>...</td>\n",
       "      <td>...</td>\n",
       "      <td>...</td>\n",
       "      <td>...</td>\n",
       "    </tr>\n",
       "    <tr>\n",
       "      <th>1793119</th>\n",
       "      <td>Kwame Fo Li</td>\n",
       "      <td>NaN</td>\n",
       "      <td>#bitcoin #bsc</td>\n",
       "      <td>2021-01-23 22:08:52</td>\n",
       "      <td>110.0</td>\n",
       "      <td>468</td>\n",
       "      <td>18320</td>\n",
       "      <td>False</td>\n",
       "      <td>2021-10-29 20:42:59</td>\n",
       "      <td>@RealWillyBot @jack Stay mad #BTC</td>\n",
       "      <td>['BTC']</td>\n",
       "      <td>Twitter for Android</td>\n",
       "      <td>False</td>\n",
       "    </tr>\n",
       "    <tr>\n",
       "      <th>1793120</th>\n",
       "      <td>Ronald S.</td>\n",
       "      <td>Bogotá, D.C., Colombia</td>\n",
       "      <td>AT-X Investments (crypto portfolio Manager)</td>\n",
       "      <td>2008-04-22 19:13:29</td>\n",
       "      <td>510.0</td>\n",
       "      <td>457</td>\n",
       "      <td>3184</td>\n",
       "      <td>False</td>\n",
       "      <td>2021-10-29 20:42:42</td>\n",
       "      <td>#btc is ready for another leg</td>\n",
       "      <td>['btc']</td>\n",
       "      <td>Twitter for Android</td>\n",
       "      <td>False</td>\n",
       "    </tr>\n",
       "    <tr>\n",
       "      <th>1793121</th>\n",
       "      <td>TRENDsMarket</td>\n",
       "      <td>NaN</td>\n",
       "      <td>Information and Comments Found Here Are Not In...</td>\n",
       "      <td>2021-08-18 23:10:11</td>\n",
       "      <td>54.0</td>\n",
       "      <td>0</td>\n",
       "      <td>0</td>\n",
       "      <td>False</td>\n",
       "      <td>2021-10-29 20:42:41</td>\n",
       "      <td>AVAX__Avalanche   CRYPTO    BUY BUY_|__   #MAR...</td>\n",
       "      <td>['MARKET', 'KZT', 'VHF', 'ABC', 'ONE', 'RİPPLE...</td>\n",
       "      <td>Twitter Web App</td>\n",
       "      <td>False</td>\n",
       "    </tr>\n",
       "    <tr>\n",
       "      <th>1793122</th>\n",
       "      <td>SpookyFlokiBSC</td>\n",
       "      <td>NaN</td>\n",
       "      <td>Official Twitter account of SpookyFloki\\nJoin ...</td>\n",
       "      <td>2021-10-22 14:51:28</td>\n",
       "      <td>203.0</td>\n",
       "      <td>3</td>\n",
       "      <td>4</td>\n",
       "      <td>False</td>\n",
       "      <td>2021-10-29 20:42:40</td>\n",
       "      <td>Remember to take part in our giveaway and join...</td>\n",
       "      <td>['bsc', 'eth', 'bscgem', 'sol', 'ftm', 'avax',...</td>\n",
       "      <td>Twitter Web App</td>\n",
       "      <td>False</td>\n",
       "    </tr>\n",
       "    <tr>\n",
       "      <th>1793123</th>\n",
       "      <td>Edikan Simon E.</td>\n",
       "      <td>Uyo, Akwa Ibom State</td>\n",
       "      <td>Digital &amp;Affiliate Marketing Specialist || Sal...</td>\n",
       "      <td>2021-03-06 23:31:54</td>\n",
       "      <td>293.0</td>\n",
       "      <td>484</td>\n",
       "      <td>2741</td>\n",
       "      <td>False</td>\n",
       "      <td>2021-10-29 20:42:32</td>\n",
       "      <td>$ROSN all the waaay!!!🔥🔥🚀🚀🚀\\n#ROSN #Roseon #Ce...</td>\n",
       "      <td>['ROSN', 'Roseon', 'CeFi', 'DeFi', 'BTC', 'Eth...</td>\n",
       "      <td>Twitter for Android</td>\n",
       "      <td>False</td>\n",
       "    </tr>\n",
       "  </tbody>\n",
       "</table>\n",
       "<p>1793124 rows × 13 columns</p>\n",
       "</div>"
      ],
      "text/plain": [
       "                                        user_name           user_location  \\\n",
       "0                                   DeSota Wilson             Atlanta, GA   \n",
       "1                                        CryptoND                     NaN   \n",
       "2                                       Tdlmatias         London, England   \n",
       "3                            Crypto is the future                     NaN   \n",
       "4        Alex Kirchmaier 🇦🇹🇸🇪 #FactsSuperspreader                  Europa   \n",
       "...                                           ...                     ...   \n",
       "1793119                               Kwame Fo Li                     NaN   \n",
       "1793120                                 Ronald S.  Bogotá, D.C., Colombia   \n",
       "1793121                              TRENDsMarket                     NaN   \n",
       "1793122                            SpookyFlokiBSC                     NaN   \n",
       "1793123                           Edikan Simon E.    Uyo, Akwa Ibom State   \n",
       "\n",
       "                                          user_description  \\\n",
       "0        Biz Consultant, real estate, fintech, startups...   \n",
       "1        😎 BITCOINLIVE is a Dutch platform aimed at inf...   \n",
       "2        IM Academy : The best #forex, #SelfEducation, ...   \n",
       "3        I will post a lot of buying signals for BTC tr...   \n",
       "4        Co-founder @RENJERJerky | Forbes 30Under30 | I...   \n",
       "...                                                    ...   \n",
       "1793119                                      #bitcoin #bsc   \n",
       "1793120        AT-X Investments (crypto portfolio Manager)   \n",
       "1793121  Information and Comments Found Here Are Not In...   \n",
       "1793122  Official Twitter account of SpookyFloki\\nJoin ...   \n",
       "1793123  Digital &Affiliate Marketing Specialist || Sal...   \n",
       "\n",
       "                user_created  user_followers user_friends user_favourites  \\\n",
       "0        2009-04-26 20:05:09          8534.0         7605            4838   \n",
       "1        2019-10-17 20:12:10          6769.0         1532           25483   \n",
       "2        2014-11-10 10:50:37           128.0          332             924   \n",
       "3        2019-09-28 16:48:12           625.0          129              14   \n",
       "4        2016-02-03 13:15:55          1249.0         1472           10482   \n",
       "...                      ...             ...          ...             ...   \n",
       "1793119  2021-01-23 22:08:52           110.0          468           18320   \n",
       "1793120  2008-04-22 19:13:29           510.0          457            3184   \n",
       "1793121  2021-08-18 23:10:11            54.0            0               0   \n",
       "1793122  2021-10-22 14:51:28           203.0            3               4   \n",
       "1793123  2021-03-06 23:31:54           293.0          484            2741   \n",
       "\n",
       "        user_verified                 date  \\\n",
       "0               False  2021-02-10 23:59:04   \n",
       "1               False  2021-02-10 23:58:48   \n",
       "2               False  2021-02-10 23:54:48   \n",
       "3               False  2021-02-10 23:54:33   \n",
       "4               False  2021-02-10 23:54:06   \n",
       "...               ...                  ...   \n",
       "1793119         False  2021-10-29 20:42:59   \n",
       "1793120         False  2021-10-29 20:42:42   \n",
       "1793121         False  2021-10-29 20:42:41   \n",
       "1793122         False  2021-10-29 20:42:40   \n",
       "1793123         False  2021-10-29 20:42:32   \n",
       "\n",
       "                                                      text  \\\n",
       "0        Blue Ridge Bank shares halted by NYSE after #b...   \n",
       "1        😎 Today, that's this #Thursday, we will do a \"...   \n",
       "2        Guys evening, I have read this article about B...   \n",
       "3        $BTC A big chance in a billion! Price: \\487264...   \n",
       "4        This network is secured by 9 508 nodes as of t...   \n",
       "...                                                    ...   \n",
       "1793119                  @RealWillyBot @jack Stay mad #BTC   \n",
       "1793120                      #btc is ready for another leg   \n",
       "1793121  AVAX__Avalanche   CRYPTO    BUY BUY_|__   #MAR...   \n",
       "1793122  Remember to take part in our giveaway and join...   \n",
       "1793123  $ROSN all the waaay!!!🔥🔥🚀🚀🚀\\n#ROSN #Roseon #Ce...   \n",
       "\n",
       "                                                  hashtags  \\\n",
       "0                                              ['bitcoin']   \n",
       "1                ['Thursday', 'Btc', 'wallet', 'security']   \n",
       "2                                                      NaN   \n",
       "3                       ['Bitcoin', 'FX', 'BTC', 'crypto']   \n",
       "4                                                  ['BTC']   \n",
       "...                                                    ...   \n",
       "1793119                                            ['BTC']   \n",
       "1793120                                            ['btc']   \n",
       "1793121  ['MARKET', 'KZT', 'VHF', 'ABC', 'ONE', 'RİPPLE...   \n",
       "1793122  ['bsc', 'eth', 'bscgem', 'sol', 'ftm', 'avax',...   \n",
       "1793123  ['ROSN', 'Roseon', 'CeFi', 'DeFi', 'BTC', 'Eth...   \n",
       "\n",
       "                      source is_retweet  \n",
       "0            Twitter Web App      False  \n",
       "1        Twitter for Android      False  \n",
       "2            Twitter Web App      False  \n",
       "3                    dlvr.it      False  \n",
       "4            Twitter Web App      False  \n",
       "...                      ...        ...  \n",
       "1793119  Twitter for Android      False  \n",
       "1793120  Twitter for Android      False  \n",
       "1793121      Twitter Web App      False  \n",
       "1793122      Twitter Web App      False  \n",
       "1793123  Twitter for Android      False  \n",
       "\n",
       "[1793124 rows x 13 columns]"
      ]
     },
     "execution_count": 9,
     "metadata": {},
     "output_type": "execute_result"
    }
   ],
   "source": [
    " #Load Tweet dataset\n",
    "df0 = pd.read_csv('Bitcoin_tweets.csv')\n",
    "df0"
   ]
  },
  {
   "cell_type": "code",
   "execution_count": 10,
   "id": "644dc615",
   "metadata": {},
   "outputs": [
    {
     "data": {
      "text/html": [
       "<div>\n",
       "<style scoped>\n",
       "    .dataframe tbody tr th:only-of-type {\n",
       "        vertical-align: middle;\n",
       "    }\n",
       "\n",
       "    .dataframe tbody tr th {\n",
       "        vertical-align: top;\n",
       "    }\n",
       "\n",
       "    .dataframe thead th {\n",
       "        text-align: right;\n",
       "    }\n",
       "</style>\n",
       "<table border=\"1\" class=\"dataframe\">\n",
       "  <thead>\n",
       "    <tr style=\"text-align: right;\">\n",
       "      <th></th>\n",
       "      <th>text</th>\n",
       "    </tr>\n",
       "  </thead>\n",
       "  <tbody>\n",
       "    <tr>\n",
       "      <th>0</th>\n",
       "      <td>Blue Ridge Bank shares halted by NYSE after #b...</td>\n",
       "    </tr>\n",
       "    <tr>\n",
       "      <th>1</th>\n",
       "      <td>😎 Today, that's this #Thursday, we will do a \"...</td>\n",
       "    </tr>\n",
       "    <tr>\n",
       "      <th>2</th>\n",
       "      <td>Guys evening, I have read this article about B...</td>\n",
       "    </tr>\n",
       "    <tr>\n",
       "      <th>3</th>\n",
       "      <td>$BTC A big chance in a billion! Price: \\487264...</td>\n",
       "    </tr>\n",
       "    <tr>\n",
       "      <th>4</th>\n",
       "      <td>This network is secured by 9 508 nodes as of t...</td>\n",
       "    </tr>\n",
       "    <tr>\n",
       "      <th>...</th>\n",
       "      <td>...</td>\n",
       "    </tr>\n",
       "    <tr>\n",
       "      <th>19995</th>\n",
       "      <td>⬇️⬇️ $BTC SELLING PRESSURE ALERT 📉 Price tradi...</td>\n",
       "    </tr>\n",
       "    <tr>\n",
       "      <th>19996</th>\n",
       "      <td>@HusseinChindo @kayodebakre8 Wrong! #Bitcoin i...</td>\n",
       "    </tr>\n",
       "    <tr>\n",
       "      <th>19997</th>\n",
       "      <td>LINK IN MY BIO!!! \\nFlex is dropping officiall...</td>\n",
       "    </tr>\n",
       "    <tr>\n",
       "      <th>19998</th>\n",
       "      <td>#Bitcoin #Btc\\n\\nWait and see.... https://t.co...</td>\n",
       "    </tr>\n",
       "    <tr>\n",
       "      <th>19999</th>\n",
       "      <td>Wow! For any of you Rick and Morty fans, check...</td>\n",
       "    </tr>\n",
       "  </tbody>\n",
       "</table>\n",
       "<p>20000 rows × 1 columns</p>\n",
       "</div>"
      ],
      "text/plain": [
       "                                                    text\n",
       "0      Blue Ridge Bank shares halted by NYSE after #b...\n",
       "1      😎 Today, that's this #Thursday, we will do a \"...\n",
       "2      Guys evening, I have read this article about B...\n",
       "3      $BTC A big chance in a billion! Price: \\487264...\n",
       "4      This network is secured by 9 508 nodes as of t...\n",
       "...                                                  ...\n",
       "19995  ⬇️⬇️ $BTC SELLING PRESSURE ALERT 📉 Price tradi...\n",
       "19996  @HusseinChindo @kayodebakre8 Wrong! #Bitcoin i...\n",
       "19997  LINK IN MY BIO!!! \\nFlex is dropping officiall...\n",
       "19998  #Bitcoin #Btc\\n\\nWait and see.... https://t.co...\n",
       "19999  Wow! For any of you Rick and Morty fans, check...\n",
       "\n",
       "[20000 rows x 1 columns]"
      ]
     },
     "execution_count": 10,
     "metadata": {},
     "output_type": "execute_result"
    }
   ],
   "source": [
    "df=df0[['text']][0:20000]\n",
    "df\n"
   ]
  },
  {
   "cell_type": "code",
   "execution_count": 11,
   "id": "cd92df16",
   "metadata": {},
   "outputs": [],
   "source": [
    "def tweet_to_words(tweet):\n",
    "    ''' Convert tweet text into a sequence of words '''\n",
    "    \n",
    "    # convert to lowercase\n",
    "    text = tweet.lower()\n",
    "    # remove non letters\n",
    "    text = re.sub(r\"[^a-zA-Z0-9]\", \" \", text)\n",
    "    # tokenize\n",
    "    words = text.split()\n",
    "    # remove stopwords\n",
    "    words = [w for w in words if w not in stopwords.words(\"english\")]\n",
    "    # apply stemming\n",
    "    words = [PorterStemmer().stem(w) for w in words]\n",
    "    # return list\n",
    "    return words"
   ]
  },
  {
   "cell_type": "code",
   "execution_count": null,
   "id": "ce2b3e87",
   "metadata": {
    "scrolled": true
   },
   "outputs": [
    {
     "name": "stderr",
     "output_type": "stream",
     "text": [
      " 89%|███████████████████████████████████████████████████████████████████▍        | 17747/20000 [03:34<00:27, 82.70it/s]"
     ]
    }
   ],
   "source": [
    "cleantext=[]\n",
    "for item in tqdm(df['text']):\n",
    "    words=tweet_to_words(item)\n",
    "    cleantext+=[words]\n",
    "df['cleantext']=cleantext\n",
    "df"
   ]
  },
  {
   "cell_type": "code",
   "execution_count": 14,
   "id": "9c27cae5",
   "metadata": {},
   "outputs": [],
   "source": [
    "# Apply data processing to each tweet\n",
    "# X = list(map(tweet_to_words, df['content']))\n",
    "# print(X==cleantext) #True\n",
    "def unlist(list):\n",
    "    words=''\n",
    "    for item in list:\n",
    "        words+=item+' '\n",
    "    return words"
   ]
  },
  {
   "cell_type": "code",
   "execution_count": 15,
   "id": "f70985f9",
   "metadata": {},
   "outputs": [],
   "source": [
    "def compute_vader_scores(df, label):\n",
    "    sid = SentimentIntensityAnalyzer()\n",
    "    df[\"vader_neg\"] = df[label].apply(lambda x: sid.polarity_scores(unlist(x))[\"neg\"])\n",
    "    df[\"vader_neu\"] = df[label].apply(lambda x: sid.polarity_scores(unlist(x))[\"neu\"])\n",
    "    df[\"vader_pos\"] = df[label].apply(lambda x: sid.polarity_scores(unlist(x))[\"pos\"])\n",
    "    df[\"vader_comp\"] = df[label].apply(lambda x: sid.polarity_scores(unlist(x))[\"compound\"])\n",
    "    df['cleantext2'] = df[label].apply(lambda x: unlist(x))\n",
    "    return df"
   ]
  },
  {
   "cell_type": "code",
   "execution_count": 19,
   "id": "a669ec7a",
   "metadata": {},
   "outputs": [
    {
     "data": {
      "text/html": [
       "<div>\n",
       "<style scoped>\n",
       "    .dataframe tbody tr th:only-of-type {\n",
       "        vertical-align: middle;\n",
       "    }\n",
       "\n",
       "    .dataframe tbody tr th {\n",
       "        vertical-align: top;\n",
       "    }\n",
       "\n",
       "    .dataframe thead th {\n",
       "        text-align: right;\n",
       "    }\n",
       "</style>\n",
       "<table border=\"1\" class=\"dataframe\">\n",
       "  <thead>\n",
       "    <tr style=\"text-align: right;\">\n",
       "      <th></th>\n",
       "      <th>text</th>\n",
       "      <th>cleantext</th>\n",
       "      <th>vader_neg</th>\n",
       "      <th>vader_neu</th>\n",
       "      <th>vader_pos</th>\n",
       "      <th>vader_comp</th>\n",
       "      <th>cleantext2</th>\n",
       "    </tr>\n",
       "  </thead>\n",
       "  <tbody>\n",
       "    <tr>\n",
       "      <th>0</th>\n",
       "      <td>Blue Ridge Bank shares halted by NYSE after #b...</td>\n",
       "      <td>[blue, ridg, bank, share, halt, nyse, bitcoin,...</td>\n",
       "      <td>0.000</td>\n",
       "      <td>0.872</td>\n",
       "      <td>0.128</td>\n",
       "      <td>0.2960</td>\n",
       "      <td>blue ridg bank share halt nyse bitcoin atm ann...</td>\n",
       "    </tr>\n",
       "    <tr>\n",
       "      <th>1</th>\n",
       "      <td>😎 Today, that's this #Thursday, we will do a \"...</td>\n",
       "      <td>[today, thursday, take, 2, friend, leowandersl...</td>\n",
       "      <td>0.000</td>\n",
       "      <td>0.775</td>\n",
       "      <td>0.225</td>\n",
       "      <td>0.4939</td>\n",
       "      <td>today thursday take 2 friend leowandersleb btc...</td>\n",
       "    </tr>\n",
       "    <tr>\n",
       "      <th>2</th>\n",
       "      <td>Guys evening, I have read this article about B...</td>\n",
       "      <td>[guy, even, read, articl, btc, would, like, sh...</td>\n",
       "      <td>0.000</td>\n",
       "      <td>0.719</td>\n",
       "      <td>0.281</td>\n",
       "      <td>0.5719</td>\n",
       "      <td>guy even read articl btc would like share http...</td>\n",
       "    </tr>\n",
       "    <tr>\n",
       "      <th>3</th>\n",
       "      <td>$BTC A big chance in a billion! Price: \\487264...</td>\n",
       "      <td>[btc, big, chanc, billion, price, 4872644, 0, ...</td>\n",
       "      <td>0.000</td>\n",
       "      <td>1.000</td>\n",
       "      <td>0.000</td>\n",
       "      <td>0.0000</td>\n",
       "      <td>btc big chanc billion price 4872644 0 2021 02 ...</td>\n",
       "    </tr>\n",
       "    <tr>\n",
       "      <th>4</th>\n",
       "      <td>This network is secured by 9 508 nodes as of t...</td>\n",
       "      <td>[network, secur, 9, 508, node, today, soon, bi...</td>\n",
       "      <td>0.200</td>\n",
       "      <td>0.800</td>\n",
       "      <td>0.000</td>\n",
       "      <td>-0.5423</td>\n",
       "      <td>network secur 9 508 node today soon biggest be...</td>\n",
       "    </tr>\n",
       "    <tr>\n",
       "      <th>...</th>\n",
       "      <td>...</td>\n",
       "      <td>...</td>\n",
       "      <td>...</td>\n",
       "      <td>...</td>\n",
       "      <td>...</td>\n",
       "      <td>...</td>\n",
       "      <td>...</td>\n",
       "    </tr>\n",
       "    <tr>\n",
       "      <th>19995</th>\n",
       "      <td>⬇️⬇️ $BTC SELLING PRESSURE ALERT 📉 Price tradi...</td>\n",
       "      <td>[btc, sell, pressur, alert, price, trade, arou...</td>\n",
       "      <td>0.000</td>\n",
       "      <td>0.855</td>\n",
       "      <td>0.145</td>\n",
       "      <td>0.2960</td>\n",
       "      <td>btc sell pressur alert price trade around 3782...</td>\n",
       "    </tr>\n",
       "    <tr>\n",
       "      <th>19996</th>\n",
       "      <td>@HusseinChindo @kayodebakre8 Wrong! #Bitcoin i...</td>\n",
       "      <td>[husseinchindo, kayodebakre8, wrong, bitcoin, ...</td>\n",
       "      <td>0.165</td>\n",
       "      <td>0.638</td>\n",
       "      <td>0.197</td>\n",
       "      <td>-0.1027</td>\n",
       "      <td>husseinchindo kayodebakre8 wrong bitcoin legal...</td>\n",
       "    </tr>\n",
       "    <tr>\n",
       "      <th>19997</th>\n",
       "      <td>LINK IN MY BIO!!! \\nFlex is dropping officiall...</td>\n",
       "      <td>[link, bio, flex, drop, offici, tomorrow, feb,...</td>\n",
       "      <td>0.130</td>\n",
       "      <td>0.870</td>\n",
       "      <td>0.000</td>\n",
       "      <td>-0.2732</td>\n",
       "      <td>link bio flex drop offici tomorrow feb 06 2021...</td>\n",
       "    </tr>\n",
       "    <tr>\n",
       "      <th>19998</th>\n",
       "      <td>#Bitcoin #Btc\\n\\nWait and see.... https://t.co...</td>\n",
       "      <td>[bitcoin, btc, wait, see, http, co, vdaseguhlp]</td>\n",
       "      <td>0.000</td>\n",
       "      <td>1.000</td>\n",
       "      <td>0.000</td>\n",
       "      <td>0.0000</td>\n",
       "      <td>bitcoin btc wait see http co vdaseguhlp</td>\n",
       "    </tr>\n",
       "    <tr>\n",
       "      <th>19999</th>\n",
       "      <td>Wow! For any of you Rick and Morty fans, check...</td>\n",
       "      <td>[wow, rick, morti, fan, check, newli, launch, ...</td>\n",
       "      <td>0.000</td>\n",
       "      <td>0.681</td>\n",
       "      <td>0.319</td>\n",
       "      <td>0.7269</td>\n",
       "      <td>wow rick morti fan check newli launch secur so...</td>\n",
       "    </tr>\n",
       "  </tbody>\n",
       "</table>\n",
       "<p>20000 rows × 7 columns</p>\n",
       "</div>"
      ],
      "text/plain": [
       "                                                    text  \\\n",
       "0      Blue Ridge Bank shares halted by NYSE after #b...   \n",
       "1      😎 Today, that's this #Thursday, we will do a \"...   \n",
       "2      Guys evening, I have read this article about B...   \n",
       "3      $BTC A big chance in a billion! Price: \\487264...   \n",
       "4      This network is secured by 9 508 nodes as of t...   \n",
       "...                                                  ...   \n",
       "19995  ⬇️⬇️ $BTC SELLING PRESSURE ALERT 📉 Price tradi...   \n",
       "19996  @HusseinChindo @kayodebakre8 Wrong! #Bitcoin i...   \n",
       "19997  LINK IN MY BIO!!! \\nFlex is dropping officiall...   \n",
       "19998  #Bitcoin #Btc\\n\\nWait and see.... https://t.co...   \n",
       "19999  Wow! For any of you Rick and Morty fans, check...   \n",
       "\n",
       "                                               cleantext  vader_neg  \\\n",
       "0      [blue, ridg, bank, share, halt, nyse, bitcoin,...      0.000   \n",
       "1      [today, thursday, take, 2, friend, leowandersl...      0.000   \n",
       "2      [guy, even, read, articl, btc, would, like, sh...      0.000   \n",
       "3      [btc, big, chanc, billion, price, 4872644, 0, ...      0.000   \n",
       "4      [network, secur, 9, 508, node, today, soon, bi...      0.200   \n",
       "...                                                  ...        ...   \n",
       "19995  [btc, sell, pressur, alert, price, trade, arou...      0.000   \n",
       "19996  [husseinchindo, kayodebakre8, wrong, bitcoin, ...      0.165   \n",
       "19997  [link, bio, flex, drop, offici, tomorrow, feb,...      0.130   \n",
       "19998    [bitcoin, btc, wait, see, http, co, vdaseguhlp]      0.000   \n",
       "19999  [wow, rick, morti, fan, check, newli, launch, ...      0.000   \n",
       "\n",
       "       vader_neu  vader_pos  vader_comp  \\\n",
       "0          0.872      0.128      0.2960   \n",
       "1          0.775      0.225      0.4939   \n",
       "2          0.719      0.281      0.5719   \n",
       "3          1.000      0.000      0.0000   \n",
       "4          0.800      0.000     -0.5423   \n",
       "...          ...        ...         ...   \n",
       "19995      0.855      0.145      0.2960   \n",
       "19996      0.638      0.197     -0.1027   \n",
       "19997      0.870      0.000     -0.2732   \n",
       "19998      1.000      0.000      0.0000   \n",
       "19999      0.681      0.319      0.7269   \n",
       "\n",
       "                                              cleantext2  \n",
       "0      blue ridg bank share halt nyse bitcoin atm ann...  \n",
       "1      today thursday take 2 friend leowandersleb btc...  \n",
       "2      guy even read articl btc would like share http...  \n",
       "3      btc big chanc billion price 4872644 0 2021 02 ...  \n",
       "4      network secur 9 508 node today soon biggest be...  \n",
       "...                                                  ...  \n",
       "19995  btc sell pressur alert price trade around 3782...  \n",
       "19996  husseinchindo kayodebakre8 wrong bitcoin legal...  \n",
       "19997  link bio flex drop offici tomorrow feb 06 2021...  \n",
       "19998           bitcoin btc wait see http co vdaseguhlp   \n",
       "19999  wow rick morti fan check newli launch secur so...  \n",
       "\n",
       "[20000 rows x 7 columns]"
      ]
     },
     "execution_count": 19,
     "metadata": {},
     "output_type": "execute_result"
    }
   ],
   "source": [
    "df2 = compute_vader_scores(df,'cleantext')\n",
    "df2"
   ]
  },
  {
   "cell_type": "code",
   "execution_count": 47,
   "id": "d30434c5",
   "metadata": {},
   "outputs": [
    {
     "data": {
      "text/plain": [
       "466.877"
      ]
     },
     "execution_count": 47,
     "metadata": {},
     "output_type": "execute_result"
    }
   ],
   "source": [
    "df2['vader_neg'].sum()"
   ]
  },
  {
   "cell_type": "code",
   "execution_count": 48,
   "id": "18af28f9",
   "metadata": {
    "scrolled": true
   },
   "outputs": [
    {
     "data": {
      "text/plain": [
       "1495.172"
      ]
     },
     "execution_count": 48,
     "metadata": {},
     "output_type": "execute_result"
    }
   ],
   "source": [
    "df2['vader_pos'].sum()"
   ]
  },
  {
   "cell_type": "code",
   "execution_count": null,
   "id": "13d7d393",
   "metadata": {},
   "outputs": [],
   "source": []
  },
  {
   "cell_type": "code",
   "execution_count": 18,
   "id": "46a1241b",
   "metadata": {},
   "outputs": [
    {
     "name": "stderr",
     "output_type": "stream",
     "text": [
      "[nltk_data] Downloading package vader_lexicon to C:\\Users\\Sabiqa\n",
      "[nltk_data]     Ashraf\\AppData\\Roaming\\nltk_data...\n"
     ]
    },
    {
     "data": {
      "text/plain": [
       "True"
      ]
     },
     "execution_count": 18,
     "metadata": {},
     "output_type": "execute_result"
    }
   ],
   "source": [
    "import nltk\n",
    "nltk.download('vader_lexicon')"
   ]
  },
  {
   "cell_type": "code",
   "execution_count": 20,
   "id": "8f7bf4a5",
   "metadata": {},
   "outputs": [
    {
     "data": {
      "text/plain": [
       "<seaborn.axisgrid.JointGrid at 0x20eb1141610>"
      ]
     },
     "execution_count": 20,
     "metadata": {},
     "output_type": "execute_result"
    },
    {
     "data": {
      "image/png": "[encoded data removed]",
      "text/plain": [
       "<Figure size 432x432 with 3 Axes>"
      ]
     },
     "metadata": {
      "needs_background": "light"
     },
     "output_type": "display_data"
    }
   ],
   "source": [
    "sns.jointplot(data=df2, x='vader_pos', y='vader_neg', kind=\"kde\")\n"
   ]
  },
  {
   "cell_type": "code",
   "execution_count": 21,
   "id": "cb90f488",
   "metadata": {},
   "outputs": [
    {
     "data": {
      "text/plain": [
       "<seaborn.axisgrid.JointGrid at 0x20eb1c237f0>"
      ]
     },
     "execution_count": 21,
     "metadata": {},
     "output_type": "execute_result"
    },
    {
     "data": {
      "image/png": "[encoded data removed]",
      "text/plain": [
       "<Figure size 432x432 with 3 Axes>"
      ]
     },
     "metadata": {
      "needs_background": "light"
     },
     "output_type": "display_data"
    }
   ],
   "source": [
    "sns.jointplot(data=df2, x='vader_pos', y='vader_neu', kind=\"kde\")\n"
   ]
  },
  {
   "cell_type": "code",
   "execution_count": 22,
   "id": "628f7d4a",
   "metadata": {},
   "outputs": [],
   "source": [
    "class0=[]\n",
    "for i in range(len(df2)):\n",
    "    if df2.loc[i,'vader_neg']>0:\n",
    "        class0+=[0]\n",
    "    elif df2.loc[i,'vader_pos']>0:\n",
    "        class0+=[2]        \n",
    "    else:\n",
    "        class0+=[1] "
   ]
  },
  {
   "cell_type": "code",
   "execution_count": 23,
   "id": "57d01696",
   "metadata": {},
   "outputs": [
    {
     "data": {
      "text/plain": [
       "1    11246\n",
       "2     6079\n",
       "0     2675\n",
       "Name: class, dtype: int64"
      ]
     },
     "execution_count": 23,
     "metadata": {},
     "output_type": "execute_result"
    }
   ],
   "source": [
    "df['class']=class0\n",
    "df['class'].value_counts()"
   ]
  },
  {
   "cell_type": "code",
   "execution_count": 25,
   "id": "435a2d42",
   "metadata": {},
   "outputs": [
    {
     "name": "stdout",
     "output_type": "stream",
     "text": [
      "Before Tokenization & Padding \n",
      " blue ridg bank share halt nyse bitcoin atm announc http co xaazmajkiv myblueridgebank http co sgbxmkp1si \n",
      "After Tokenization & Padding \n",
      " [1399 1804  254  406 3652 2760    3 1149  259    2    1    2    1    0\n",
      "    0    0    0    0    0    0    0    0    0    0    0    0    0    0\n",
      "    0    0    0    0    0    0    0    0    0    0    0    0    0    0\n",
      "    0    0    0    0    0    0    0    0]\n"
     ]
    }
   ],
   "source": [
    "from tensorflow.keras.preprocessing.text import Tokenizer\n",
    "from tensorflow.keras.preprocessing.sequence import pad_sequences\n",
    "\n",
    "max_words = 5000\n",
    "max_len=50\n",
    "\n",
    "def tokenize_pad_sequences(text):\n",
    "    '''\n",
    "    This function tokenize the input text into sequnences of intergers and then\n",
    "    pad each sequence to the same length\n",
    "    '''\n",
    "    # Text tokenization\n",
    "    tokenizer = Tokenizer(num_words=max_words, lower=True, split=' ')\n",
    "    tokenizer.fit_on_texts(text)\n",
    "    # Transforms text to a sequence of integers\n",
    "    X = tokenizer.texts_to_sequences(text)\n",
    "    # Pad sequences to the same length\n",
    "    X = pad_sequences(X, padding='post', maxlen=max_len)\n",
    "    # return sequences\n",
    "    return X, tokenizer\n",
    "\n",
    "print('Before Tokenization & Padding \\n', df['cleantext2'][0])\n",
    "X, tokenizer = tokenize_pad_sequences(df['cleantext2'])\n",
    "print('After Tokenization & Padding \\n', X[0])"
   ]
  },
  {
   "cell_type": "code",
   "execution_count": 26,
   "id": "e4efd86a",
   "metadata": {},
   "outputs": [
    {
     "name": "stdout",
     "output_type": "stream",
     "text": [
      "(20000, 50)\n"
     ]
    }
   ],
   "source": [
    "print(X.shape)"
   ]
  },
  {
   "cell_type": "code",
   "execution_count": 27,
   "id": "90a338fb",
   "metadata": {},
   "outputs": [
    {
     "name": "stdout",
     "output_type": "stream",
     "text": [
      "Train Set:  (12000, 50) (12000, 3)\n",
      "Validation Set:  (4000, 50) (4000, 3)\n",
      "Test Set:  (4000, 50) (4000, 3)\n"
     ]
    }
   ],
   "source": [
    "y = pd.get_dummies(df['class'])\n",
    "X_train, X_test, y_train, y_test = train_test_split(X, y, test_size=0.2, random_state=1)\n",
    "X_train, X_val, y_train, y_val = train_test_split(X_train, y_train, test_size=0.25, random_state=1)\n",
    "print('Train Set: ', X_train.shape, y_train.shape)\n",
    "print('Validation Set: ', X_val.shape, y_val.shape)\n",
    "print('Test Set: ', X_test.shape, y_test.shape)"
   ]
  },
  {
   "cell_type": "code",
   "execution_count": 28,
   "id": "8d8bb825",
   "metadata": {},
   "outputs": [],
   "source": [
    "import tensorflow.keras.backend as K\n",
    "\n",
    "def f1_score(precision, recall):\n",
    "    ''' Function to calculate f1 score '''\n",
    "    \n",
    "    f1_val = 2*(precision*recall)/(precision+recall+K.epsilon())\n",
    "    return f1_val"
   ]
  },
  {
   "cell_type": "code",
   "execution_count": 29,
   "id": "e620e571",
   "metadata": {},
   "outputs": [],
   "source": [
    "from tensorflow.keras.models import Sequential\n",
    "from tensorflow.keras.layers import Embedding, Conv1D, MaxPooling1D, Bidirectional, LSTM, Dense, Dropout\n",
    "from tensorflow.keras.metrics import Precision, Recall\n",
    "from tensorflow.keras.optimizers import SGD\n",
    "from tensorflow.keras.optimizers import RMSprop\n",
    "from tensorflow.keras import datasets\n",
    "from tensorflow.keras.callbacks import LearningRateScheduler\n",
    "from tensorflow.keras.callbacks import History\n",
    "from tensorflow.keras import losses"
   ]
  },
  {
   "cell_type": "code",
   "execution_count": 30,
   "id": "a1aea6ae",
   "metadata": {},
   "outputs": [],
   "source": [
    "vocab_size = 5000\n",
    "embedding_size = 32\n",
    "epochs = 10\n",
    "learning_rate = 0.1\n",
    "decay_rate = learning_rate / epochs\n",
    "momentum = 0.8"
   ]
  },
  {
   "cell_type": "code",
   "execution_count": 32,
   "id": "68c93e0b",
   "metadata": {},
   "outputs": [],
   "source": [
    "sgd = SGD(learning_rate, momentum=momentum, decay=decay_rate, nesterov=False)\n",
    "# Build model\n",
    "model= Sequential()\n",
    "model.add(Embedding(vocab_size, embedding_size, input_length=max_len))\n",
    "model.add(Conv1D(filters=32, kernel_size=1, padding='same', activation='relu'))\n",
    "model.add(MaxPooling1D(pool_size=2))\n",
    "model.add(Bidirectional(LSTM(32)))\n",
    "model.add(Dropout(0.4))\n",
    "model.add(Dense(3, activation='softmax'))"
   ]
  },
  {
   "cell_type": "code",
   "execution_count": 37,
   "id": "9733d471",
   "metadata": {},
   "outputs": [
    {
     "name": "stdout",
     "output_type": "stream",
     "text": [
      "('You must install pydot (`pip install pydot`) and install graphviz (see instructions at https://graphviz.gitlab.io/download/) ', 'for plot_model/model_to_dot to work.')\n"
     ]
    }
   ],
   "source": [
    "import tensorflow as tf\n",
    "tf.keras.utils.plot_model(model, show_shapes=True)"
   ]
  },
  {
   "cell_type": "code",
   "execution_count": 34,
   "id": "8228c857",
   "metadata": {},
   "outputs": [
    {
     "name": "stdout",
     "output_type": "stream",
     "text": [
      "Collecting pydotNote: you may need to restart the kernel to use updated packages.\n",
      "  Downloading pydot-1.4.2-py2.py3-none-any.whl (21 kB)\n",
      "Requirement already satisfied: pyparsing>=2.1.4 in f:\\1nust\\webeng\\software\\anaconda\\lib\\site-packages (from pydot) (3.0.4)\n",
      "Installing collected packages: pydot\n",
      "Successfully installed pydot-1.4.2\n",
      "\n"
     ]
    }
   ],
   "source": [
    "pip install pydot"
   ]
  },
  {
   "cell_type": "code",
   "execution_count": 35,
   "id": "cd548c41",
   "metadata": {},
   "outputs": [
    {
     "name": "stdout",
     "output_type": "stream",
     "text": [
      "Collecting graphviz\n",
      "  Downloading graphviz-0.19.1-py3-none-any.whl (46 kB)\n",
      "Installing collected packages: graphviz\n",
      "Successfully installed graphviz-0.19.1\n",
      "Note: you may need to restart the kernel to use updated packages.\n"
     ]
    }
   ],
   "source": [
    "pip install graphviz"
   ]
  },
  {
   "cell_type": "code",
   "execution_count": 38,
   "id": "c2ecc7a1",
   "metadata": {},
   "outputs": [
    {
     "name": "stdout",
     "output_type": "stream",
     "text": [
      "('You must install pydot (`pip install pydot`) and install graphviz (see instructions at https://graphviz.gitlab.io/download/) ', 'for plot_model/model_to_dot to work.')\n"
     ]
    }
   ],
   "source": [
    "import tensorflow as tf\n",
    "tf.keras.utils.plot_model(model, show_shapes=True)"
   ]
  },
  {
   "cell_type": "code",
   "execution_count": 39,
   "id": "476734ab",
   "metadata": {},
   "outputs": [],
   "source": [
    "model.compile(loss='categorical_crossentropy', optimizer=sgd, metrics=['accuracy', Precision(), Recall()])"
   ]
  },
  {
   "cell_type": "code",
   "execution_count": 40,
   "id": "e329e096",
   "metadata": {
    "scrolled": true
   },
   "outputs": [
    {
     "name": "stdout",
     "output_type": "stream",
     "text": [
      "Epoch 1/10\n",
      "188/188 [==============================] - 12s 22ms/step - loss: 0.9560 - accuracy: 0.5635 - precision: 0.5664 - recall: 0.5292 - val_loss: 0.9508 - val_accuracy: 0.5663 - val_precision: 0.5663 - val_recall: 0.5663\n",
      "Epoch 2/10\n",
      "188/188 [==============================] - 3s 16ms/step - loss: 0.9444 - accuracy: 0.5648 - precision: 0.5664 - recall: 0.5602 - val_loss: 0.9383 - val_accuracy: 0.5663 - val_precision: 0.5663 - val_recall: 0.5663\n",
      "Epoch 3/10\n",
      "188/188 [==============================] - 3s 18ms/step - loss: 0.9248 - accuracy: 0.5663 - precision: 0.5885 - recall: 0.5330 - val_loss: 0.9136 - val_accuracy: 0.5663 - val_precision: 0.6426 - val_recall: 0.4568\n",
      "Epoch 4/10\n",
      "188/188 [==============================] - 3s 17ms/step - loss: 0.8929 - accuracy: 0.5796 - precision: 0.6479 - recall: 0.4493 - val_loss: 0.8814 - val_accuracy: 0.5893 - val_precision: 0.6693 - val_recall: 0.4265\n",
      "Epoch 5/10\n",
      "188/188 [==============================] - 3s 17ms/step - loss: 0.8651 - accuracy: 0.5973 - precision: 0.6858 - recall: 0.4334 - val_loss: 0.8606 - val_accuracy: 0.5960 - val_precision: 0.7272 - val_recall: 0.3853\n",
      "Epoch 6/10\n",
      "188/188 [==============================] - 3s 17ms/step - loss: 0.8429 - accuracy: 0.6188 - precision: 0.7089 - recall: 0.4397 - val_loss: 0.8404 - val_accuracy: 0.6200 - val_precision: 0.7017 - val_recall: 0.4493\n",
      "Epoch 7/10\n",
      "188/188 [==============================] - 3s 18ms/step - loss: 0.8213 - accuracy: 0.6347 - precision: 0.7280 - recall: 0.4668 - val_loss: 0.8217 - val_accuracy: 0.6390 - val_precision: 0.7167 - val_recall: 0.4742\n",
      "Epoch 8/10\n",
      "188/188 [==============================] - 3s 18ms/step - loss: 0.8007 - accuracy: 0.6518 - precision: 0.7376 - recall: 0.4942 - val_loss: 0.8085 - val_accuracy: 0.6392 - val_precision: 0.7086 - val_recall: 0.5235ss: 0.8148 - accurac\n",
      "Epoch 9/10\n",
      "188/188 [==============================] - 3s 18ms/step - loss: 0.7819 - accuracy: 0.6650 - precision: 0.7433 - recall: 0.5220 - val_loss: 0.7815 - val_accuracy: 0.6580 - val_precision: 0.7382 - val_recall: 0.5272\n",
      "Epoch 10/10\n",
      "188/188 [==============================] - 3s 17ms/step - loss: 0.7556 - accuracy: 0.6802 - precision: 0.7604 - recall: 0.5503 - val_loss: 0.7603 - val_accuracy: 0.6725 - val_precision: 0.7416 - val_recall: 0.5602\n"
     ]
    }
   ],
   "source": [
    "history = model.fit(X_train,y_train,validation_data=(X_val, y_val),batch_size=64,epochs=epochs,verbose=1)"
   ]
  },
  {
   "cell_type": "code",
   "execution_count": 41,
   "id": "d2f61959",
   "metadata": {},
   "outputs": [
    {
     "name": "stdout",
     "output_type": "stream",
     "text": [
      "\n",
      "Accuracy  : 0.6678\n",
      "Precision : 0.7237\n",
      "Recall    : 0.5527\n",
      "F1 Score  : 0.6268\n"
     ]
    }
   ],
   "source": [
    "# Evaluate model on the test set\n",
    "loss, accuracy, precision, recall = model.evaluate(X_test, y_test, verbose=0)\n",
    "# Print metrics\n",
    "print('')\n",
    "print('Accuracy  : {:.4f}'.format(accuracy))\n",
    "print('Precision : {:.4f}'.format(precision))\n",
    "print('Recall    : {:.4f}'.format(recall))\n",
    "print('F1 Score  : {:.4f}'.format(f1_score(precision, recall)))"
   ]
  },
  {
   "cell_type": "code",
   "execution_count": 42,
   "id": "487c5101",
   "metadata": {},
   "outputs": [
    {
     "data": {
      "image/png": "[encoded data removed]",
      "text/plain": [
       "<Figure size 720x288 with 2 Axes>"
      ]
     },
     "metadata": {
      "needs_background": "light"
     },
     "output_type": "display_data"
    }
   ],
   "source": [
    "def plot_training_hist(history):\n",
    "    '''Function to plot history for accuracy and loss'''\n",
    "    \n",
    "    fig, ax = plt.subplots(1,2, figsize=(10,4))\n",
    "    # first plot\n",
    "    ax[0].plot(history.history['accuracy'])\n",
    "    ax[0].plot(history.history['val_accuracy'])\n",
    "    ax[0].set_title('Model Accuracy')\n",
    "    ax[0].set_xlabel('epoch')\n",
    "    ax[0].set_ylabel('accuracy')\n",
    "    ax[0].legend(['train', 'validation'], loc='best')\n",
    "     \n",
    "    # second plot\n",
    "    ax[1].plot(history.history['loss'])\n",
    "    ax[1].plot(history.history['val_loss'])\n",
    "    ax[1].set_title('Model Loss')\n",
    "    ax[1].set_xlabel('epoch')\n",
    "    ax[1].set_ylabel('loss')\n",
    "    ax[1].legend(['train', 'validation'], loc='best')\n",
    "    \n",
    "plot_training_hist(history)"
   ]
  },
  {
   "cell_type": "code",
   "execution_count": 44,
   "id": "828427a0",
   "metadata": {},
   "outputs": [
    {
     "name": "stdout",
     "output_type": "stream",
     "text": [
      "1    2203\n",
      "2    1251\n",
      "0     546\n",
      "dtype: int64\n",
      "1    2878\n",
      "2    1122\n",
      "dtype: int64\n"
     ]
    },
    {
     "data": {
      "image/png": "[encoded data removed]",
      "text/plain": [
       "<Figure size 576x432 with 2 Axes>"
      ]
     },
     "metadata": {
      "needs_background": "light"
     },
     "output_type": "display_data"
    }
   ],
   "source": [
    "from sklearn.metrics import confusion_matrix\n",
    "\n",
    "def plot_confusion_matrix(model, X_test, y_test):\n",
    "    '''Function to plot confusion matrix for the passed model and the data'''\n",
    "    \n",
    "    sentiment_classes = ['Negative','Neutral', 'Positive']\n",
    "    # use model to do the prediction\n",
    "    y_pred = model.predict(X_test)\n",
    "    # compute confusion matrix\n",
    "    cm = confusion_matrix(np.argmax(y_pred, axis=1),np.argmax(np.array(y_test),axis=1))\n",
    "    print(pd.Series(np.argmax(np.array(y_test),axis=1)).value_counts())\n",
    "    print(pd.Series(np.argmax(y_pred, axis=1)).value_counts())\n",
    "    \n",
    "    # plot confusion matrix\n",
    "    plt.figure(figsize=(8,6))\n",
    "    sns.heatmap(cm, cmap=plt.cm.Blues, annot=True, fmt='d', \n",
    "                xticklabels=sentiment_classes,\n",
    "                yticklabels=sentiment_classes)\n",
    "    plt.title('Confusion matrix', fontsize=16)\n",
    "    plt.xlabel('Actual label', fontsize=12)\n",
    "    plt.ylabel('Predicted label', fontsize=12)\n",
    "    \n",
    "plot_confusion_matrix(model, X_test, y_test)"
   ]
  },
  {
   "cell_type": "code",
   "execution_count": null,
   "id": "47708d82",
   "metadata": {},
   "outputs": [],
   "source": []
  }
 ],
 "metadata": {
  "kernelspec": {
   "display_name": "Python 3",
   "language": "python",
   "name": "python3"
  },
  "language_info": {
   "codemirror_mode": {
    "name": "ipython",
    "version": 3
   },
   "file_extension": ".py",
   "mimetype": "text/x-python",
   "name": "python",
   "nbconvert_exporter": "python",
   "pygments_lexer": "ipython3",
   "version": "3.8.8"
  }
 },
 "nbformat": 4,
 "nbformat_minor": 5
}
